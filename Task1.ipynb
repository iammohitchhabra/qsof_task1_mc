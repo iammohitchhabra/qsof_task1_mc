{
 "cells": [
  {
   "cell_type": "code",
   "execution_count": 1,
   "id": "aa5fdbc4-e064-43f1-be16-a92803b9e2d9",
   "metadata": {},
   "outputs": [
    {
     "data": {
      "text/plain": [
       "'\\nCode for QOSF Task 1\\n1. Statevector Simulation of quantum circuits\\n2. Advanced simulation using tensor multiplication\\n3. Bonus question\\n'"
      ]
     },
     "execution_count": 1,
     "metadata": {},
     "output_type": "execute_result"
    }
   ],
   "source": [
    "\"\"\"\n",
    "Code for QOSF Task 1\n",
    "1. Statevector Simulation of quantum circuits\n",
    "2. Advanced simulation using tensor multiplication\n",
    "3. Bonus question\n",
    "\"\"\""
   ]
  },
  {
   "cell_type": "code",
   "execution_count": 2,
   "id": "6581fcc0-212e-4639-822f-303460c8c972",
   "metadata": {},
   "outputs": [],
   "source": [
    "import numpy as np\n",
    "import matplotlib\n",
    "import matplotlib.pyplot as plt\n",
    "import time"
   ]
  },
  {
   "cell_type": "code",
   "execution_count": 3,
   "id": "a9e17bc9-6be4-4709-a134-b174ee452a83",
   "metadata": {},
   "outputs": [],
   "source": [
    "###Give number of qubits get a circuit with gates comprised\n",
    "### of X,H and CNOT gates\n",
    "def get_circuit(n_qubits):\n",
    "    \"\"\"\n",
    "    Input : number of qubits\n",
    "    Output : List of (gate,gate_name)\n",
    "\n",
    "    Creates a random circuit given number of qubits\n",
    "    \"\"\"\n",
    "    n=n_qubits\n",
    "    gdim=[] #for tracking the number of qubits in the added gate\n",
    "    Mat=[]  #list containing the gate matrices and names\n",
    "    ###While the number of qubits are not exhausted keep adding a random gate to circuit\n",
    "    while(n>0):\n",
    "        if n>=2:\n",
    "            num=np.random.choice([1,2],size=1)[0]\n",
    "        else:\n",
    "            num=1\n",
    "        gdim.append(num)\n",
    "        n-=num\n",
    "            \n",
    "    ### This part can be extended for other gates\n",
    "    for d in gdim:\n",
    "        if d==1:\n",
    "            gate_name=np.random.choice(['X','H'],size=1)[0]\n",
    "        else:\n",
    "            gate_name='CNOT'\n",
    "        Mat.append((Gates[gate_name],gate_name))\n",
    "    return Mat"
   ]
  },
  {
   "cell_type": "code",
   "execution_count": 4,
   "id": "ba82dd33-3ed7-481f-a9f0-08cf3c128d46",
   "metadata": {},
   "outputs": [],
   "source": [
    "###Given gates, get the transformation matrix\n",
    "def get_matrix(gates):\n",
    "    \"\"\"\n",
    "    Input : List of (gate,gate_name)\n",
    "    Output : Kronecker product of gate matrices\n",
    "    \"\"\"\n",
    "    M=gates[0][0]\n",
    "    for mat,_ in gates[1:]:\n",
    "        M=np.kron(M,mat)\n",
    "    return M\n"
   ]
  },
  {
   "cell_type": "code",
   "execution_count": 5,
   "id": "b5cfa7c8-5c15-4be2-92d0-16bde0003c81",
   "metadata": {},
   "outputs": [],
   "source": [
    "###Get the statevector given, number of qubits, here the first\n",
    "### vector is chosen |0> and other vectors are randomly chosen \n",
    "### between |0> and |1> This can be made more general if needed\n",
    "\n",
    "def get_statevector(n_qubits):\n",
    "    \"\"\"\n",
    "    Inputs : number of qubits (int)\n",
    "    Output : statevector (np.array)\n",
    "    \"\"\"\n",
    "    vec_list=[]\n",
    "    state_vector=np.array([1,0])\n",
    "    for i in range(n_qubits-1):\n",
    "        index=np.random.choice([0,1],size=1)[0]\n",
    "        if index==0:\n",
    "            state_vector=np.kron(state_vector,np.array([1,0]))  ###Add |0>\n",
    "        else:\n",
    "            state_vector=np.kron(state_vector,np.array([0,1]))  ###Ad |1>\n",
    "    \n",
    "    return state_vector\n"
   ]
  },
  {
   "cell_type": "code",
   "execution_count": 6,
   "id": "3d4681a1-8b4b-41d8-a877-099372ec68b4",
   "metadata": {},
   "outputs": [],
   "source": [
    "###This function converts the statevector to tensor representation such that\n",
    "### tensordot can be computed. The form of the tensor is (2,2,..4, 2...)\n",
    "### The dimension of axis is 2**(no.qubits) for the corresponding gate\n",
    "def get_statetensor(gates,statevector):\n",
    "    \"\"\"\n",
    "    Input: List of (gate,gate_name), statevector : np.array\n",
    "    Output : state_tensor (np.array)\n",
    "    \"\"\"\n",
    "    shape=statevector.shape[0]\n",
    "    new_dim=[]\n",
    "    for i, (mat,_) in enumerate(gates):\n",
    "        ###For two qubit gates . Eg. CNOT\n",
    "        if mat.shape[0]==4:\n",
    "            new_dim.append(4)\n",
    "            shape=shape//4\n",
    "        ###For single qubit gate\n",
    "        else:\n",
    "            new_dim.append(2)\n",
    "            shape=shape//2   \n",
    "    state_tensor=np.reshape(statevector,new_dim)    \n",
    "    return state_tensor\n"
   ]
  },
  {
   "cell_type": "code",
   "execution_count": 7,
   "id": "a0288542-95f3-43c2-a7bf-445d9b921695",
   "metadata": {},
   "outputs": [],
   "source": [
    "def calculate_tensordot(gates,statetensor):\n",
    "    \"\"\"\n",
    "    Input :     Input: List of (gate,gate_name), statetensor : np.ndarray\n",
    "    Output : statetensor obtained after \n",
    "    \"\"\"\n",
    "    for i,(mat,_) in enumerate(gates):\n",
    "        statetensor = np.moveaxis(statetensor, i, 0)\n",
    "        statetensor=np.tensordot(mat, statetensor, axes=([1], [0]))\n",
    "        statetensor = np.moveaxis(statetensor, 0, i)\n",
    "    return statetensor"
   ]
  },
  {
   "cell_type": "code",
   "execution_count": 18,
   "id": "0cdfcba9-7693-44af-8292-3badeaf3d277",
   "metadata": {},
   "outputs": [],
   "source": [
    "if __name__==\"__main__\": \n",
    "    ###Dictionary storing gate names as keys and corrsesponding gate matrices as arrays\n",
    "    Gates={}\n",
    "    Gates['X']=np.array([[0, 1], [1, 0]])\n",
    "    Gates['H'] = 1/np.sqrt(2) * np.array([[1, 1], [1, -1]])\n",
    "    Gates['I']=np.eye(2)\n",
    "    Gates['CNOT'] = np.array([[1, 0, 0, 0], [0, 1, 0, 0], [0, 0, 0, 1], [0, 0, 1, 0]])"
   ]
  },
  {
   "cell_type": "code",
   "execution_count": 22,
   "id": "c2694a92-76b6-43a4-a47d-97c371fb236c",
   "metadata": {
    "scrolled": true
   },
   "outputs": [
    {
     "name": "stdout",
     "output_type": "stream",
     "text": [
      "(32, 32) (32,)\n",
      "State vector obtained is [0.         0.         0.         0.         0.         0.\n",
      " 0.         0.         0.         0.         0.         0.\n",
      " 0.         0.         0.         0.70710678 0.         0.\n",
      " 0.         0.         0.         0.         0.         0.\n",
      " 0.         0.         0.         0.         0.         0.\n",
      " 0.         0.70710678]\n"
     ]
    }
   ],
   "source": [
    "    ####Print an example\n",
    "    n_qubits=5 \n",
    "    gates=get_circuit(n_qubits)\n",
    "    M=get_matrix(gates)\n",
    "    v=get_statevector(n_qubits)\n",
    "    statevector=np.dot(M,v)\n",
    "    print(M.shape,v.shape)\n",
    "    print(f\"State vector obtained is {statevector}\")\n"
   ]
  },
  {
   "cell_type": "code",
   "execution_count": 27,
   "id": "496535b6-66c5-496a-af01-f32a3e48fe78",
   "metadata": {},
   "outputs": [
    {
     "data": {
      "image/png": "[encoded data removed]",
      "text/plain": [
       "<Figure size 640x480 with 1 Axes>"
      ]
     },
     "metadata": {},
     "output_type": "display_data"
    }
   ],
   "source": [
    "    ########## Plot execution time ###########################\n",
    "    processing_times=[]\n",
    "    nqubit_list=[]\n",
    "    max_qubits=15\n",
    "    for n_qubits in range(2,max_qubits):\n",
    "        start_time=time.time()\n",
    "        ###Define and get a circuit with CNOT, X and H gates\n",
    "        gates=get_circuit(n_qubits)\n",
    "        \n",
    "        ###Kronecker product of gate matrices    \n",
    "        M=get_matrix(gates)\n",
    "        v=get_statevector(n_qubits)\n",
    "        statevector=M@v\n",
    "        end_time=time.time()\n",
    "        cpu_time=end_time-start_time\n",
    "        processing_times.append(cpu_time)\n",
    "        nqubit_list.append(n_qubits)\n",
    "    plt.plot(nqubit_list,processing_times,label='Processing Time Kronecker(s)')\n",
    "    plt.xlabel('#Qubits')\n",
    "    plt.ylabel('CPU Time (s)')\n",
    "    plt.legend()\n",
    "    plt.savefig(\"cpu_time.png\")\n",
    "    plt.show()\n",
    "    \n",
    "    # statetensor=get_statetensor(gates,v)\n",
    "    # new_statetensor=calculate_tensordot(gates,statetensor)"
   ]
  },
  {
   "cell_type": "code",
   "execution_count": 24,
   "id": "579ac292-3e1f-481e-b804-ea7e8ae01173",
   "metadata": {},
   "outputs": [
    {
     "data": {
      "image/png": "[encoded data removed]",
      "text/plain": [
       "<Figure size 640x480 with 1 Axes>"
      ]
     },
     "metadata": {},
     "output_type": "display_data"
    }
   ],
   "source": [
    "    #######Plot execution time###############################\n",
    "    processing_times=[]\n",
    "    nqubit_list=[]\n",
    "    max_qubits=25\n",
    "    for n_qubits in range(2,max_qubits):\n",
    "        start_time=time.time()\n",
    "\n",
    "        gates=get_circuit(n_qubits)\n",
    "        v=get_statevector(n_qubits)\n",
    "        statetensor=get_statetensor(gates,v)\n",
    "\n",
    "        ###New method for speeding up simulation, where kronecker is replaced by sequential application of gates\n",
    "        new_statetensor=calculate_tensordot(gates,statetensor)\n",
    "\n",
    "        end_time=time.time()\n",
    "        cpu_time=end_time-start_time\n",
    "        processing_times.append(cpu_time)\n",
    "        nqubit_list.append(n_qubits)\n",
    "    plt.plot(nqubit_list,processing_times,label='Processing Time Tensordot (s)')\n",
    "    plt.xlabel('#Qubits')\n",
    "    plt.ylabel('CPU Time (s)')\n",
    "    plt.legend()\n",
    "    plt.savefig(\"cpu_time_tensordot.png\")\n",
    "    plt.show()\n",
    "\n"
   ]
  },
  {
   "cell_type": "code",
   "execution_count": 25,
   "id": "b070413a-fe9f-4a97-8491-9fa138010acc",
   "metadata": {},
   "outputs": [
    {
     "name": "stdout",
     "output_type": "stream",
     "text": [
      "(32,)\n",
      "Measured states: ['11000', '11000', '11000', '11000', '11000', '11000', '11000', '11000', '11000', '11000']\n"
     ]
    }
   ],
   "source": [
    "    ###########Sampling from final states in the statevector representation ####\n",
    "    ###Declare the number of qubits and number of samples to be simulated\n",
    "    n_qubits=5 \n",
    "    num_samples=10\n",
    "\n",
    "    ###Get a circuit to be simulated with specified number of qubits\n",
    "    gates=get_circuit(n_qubits)\n",
    "    v=get_statevector(n_qubits)\n",
    "    statetensor=get_statetensor(gates,v)\n",
    "    \n",
    "    ####Apply the gates to the statevector\n",
    "    new_statetensor=calculate_tensordot(gates,statetensor)\n",
    "    new_statetensor=new_statetensor.flatten()\n",
    "    \n",
    "    ###Compute magnitude of statevector to get probability amplitudes\n",
    "    probabilities_un_normalized=new_statetensor.conj().T*new_statetensor\n",
    "    ###Normalize\n",
    "    probabilities_normalized=probabilities_un_normalized/np.sum(probabilities_un_normalized)\n",
    "    \n",
    "    ###Sample from the distrubution\n",
    "    samples = np.random.choice(2**n_qubits, size=num_samples, p=probabilities_normalized)\n",
    "    \n",
    "    ###Represent sampled outcome in binary. If number of bits are changed to more than 5 please change the output format\n",
    "    binary_outcome =[ format(outcome, '05b') for outcome in samples]\n",
    "    print(f\"Measured states: {binary_outcome}\")"
   ]
  },
  {
   "cell_type": "code",
   "execution_count": 26,
   "id": "df004ce7-4934-4459-b4a1-c0b49c9ad189",
   "metadata": {},
   "outputs": [
    {
     "name": "stdout",
     "output_type": "stream",
     "text": [
      "Expectation value of <psi| operator | psi>: 0.0\n"
     ]
    }
   ],
   "source": [
    "    ########## Computing exact expectation ##########\n",
    "    ###Compute the operator using X gates \n",
    "    Ops=[]\n",
    "    for i in range(n_qubits):\n",
    "        op_list=[]\n",
    "        for j in range(n_qubits):\n",
    "            if (i==j):\n",
    "                op_list.append((Gates['X'],'X'))\n",
    "            else:\n",
    "                op_list.append((Gates['I'],'I'))\n",
    "        Ops.append(op_list)\n",
    "    \n",
    "    Op_tensor=np.zeros((2**n_qubits,2**n_qubits))\n",
    "    for Op in Ops:\n",
    "        Op_tensor+=get_matrix(Op)\n",
    "\n",
    "    ###Compute the expectation\n",
    "    operator=Op_tensor\n",
    "    expectation_value_tensor = np.conj(new_statetensor).T @ operator @ new_statetensor\n",
    "    print(f\"Expectation value of <psi| operator | psi>: {expectation_value_tensor}\")\n"
   ]
  },
  {
   "cell_type": "code",
   "execution_count": null,
   "id": "1a6aad11-2dc9-4e4e-8cff-6ceeccf6ca02",
   "metadata": {},
   "outputs": [],
   "source": []
  },
  {
   "cell_type": "code",
   "execution_count": null,
   "id": "3d984101-e0a9-4953-b57b-edcad70a05d4",
   "metadata": {},
   "outputs": [],
   "source": []
  }
 ],
 "metadata": {
  "kernelspec": {
   "display_name": "Python 3 (ipykernel)",
   "language": "python",
   "name": "python3"
  },
  "language_info": {
   "codemirror_mode": {
    "name": "ipython",
    "version": 3
   },
   "file_extension": ".py",
   "mimetype": "text/x-python",
   "name": "python",
   "nbconvert_exporter": "python",
   "pygments_lexer": "ipython3",
   "version": "3.8.10"
  }
 },
 "nbformat": 4,
 "nbformat_minor": 5
}
